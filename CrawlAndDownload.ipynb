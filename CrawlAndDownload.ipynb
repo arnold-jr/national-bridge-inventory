{
 "cells": [
  {
   "cell_type": "code",
   "execution_count": 2,
   "metadata": {
    "collapsed": true
   },
   "outputs": [],
   "source": [
    "zipfile.ZipFile.extractall?"
   ]
  },
  {
   "cell_type": "code",
   "execution_count": 1,
   "metadata": {
    "collapsed": true
   },
   "outputs": [],
   "source": [
    "import requests\n",
    "from bs4 import BeautifulSoup\n",
    "import re\n",
    "from urllib.parse import urljoin\n",
    "import zipfile\n",
    "import io"
   ]
  },
  {
   "cell_type": "code",
   "execution_count": 80,
   "metadata": {
    "collapsed": false
   },
   "outputs": [],
   "source": [
    "base_url = \"http://www.fhwa.dot.gov/bridge/nbi/\"\n",
    "regexes = {0: re.compile(\"[0-9]\\s+Data\"),\n",
    "           1: re.compile(\"zip file\"),\n",
    "           2: re.compile(\"Proceed to Data\")\n",
    "           }\n",
    "\n",
    "def follow(url_leaf, level):\n",
    "  url = urljoin(base_url, url_leaf)\n",
    "  resp = requests.get(url, stream=True)\n",
    "  if resp.status_code != 200:\n",
    "    raise ValueError(\"Invalid response from url {0} at level {1}\".format(url, level))\n",
    "    \n",
    "  if level == 3:\n",
    "    # Download the zip file\n",
    "    z = zipfile.ZipFile(io.BytesIO(resp.content))\n",
    "    z.extractall(path=\"resources\")\n",
    "  else:\n",
    "    soup = BeautifulSoup(resp.text, \"lxml\")\n",
    "    anchors = soup.find_all(\"a\", text=regexes[level])\n",
    "    if level == 1:\n",
    "      # Only follow the last zip link\n",
    "      anchors = [anchors[-1]]\n",
    "    for a in anchors:\n",
    "      follow(a['href'], level+1)"
   ]
  },
  {
   "cell_type": "code",
   "execution_count": 81,
   "metadata": {
    "collapsed": false
   },
   "outputs": [],
   "source": [
    "follow(\"ascii.cfm\", 0)"
   ]
  },
  {
   "cell_type": "code",
   "execution_count": 74,
   "metadata": {
    "collapsed": false
   },
   "outputs": [],
   "source": [
    "a = [0, 1, 2]\n",
    "a = [a[-1]]"
   ]
  },
  {
   "cell_type": "code",
   "execution_count": 75,
   "metadata": {
    "collapsed": false
   },
   "outputs": [
    {
     "data": {
      "text/plain": [
       "[2]"
      ]
     },
     "execution_count": 75,
     "metadata": {},
     "output_type": "execute_result"
    }
   ],
   "source": []
  },
  {
   "cell_type": "code",
   "execution_count": null,
   "metadata": {
    "collapsed": false
   },
   "outputs": [],
   "source": [
    "base_url = \"http://www.fhwa.dot.gov/bridge/nbi/\"\n",
    "url_0 = urljoin(base_url, \"ascii.cfm\")\n",
    "with requests.Session() as s:\n",
    "  resp = s.get(url_0)"
   ]
  },
  {
   "cell_type": "code",
   "execution_count": null,
   "metadata": {
    "collapsed": true
   },
   "outputs": [],
   "source": [
    "soup = BeautifulSoup(resp.text, \"lxml\")"
   ]
  },
  {
   "cell_type": "code",
   "execution_count": null,
   "metadata": {
    "collapsed": true
   },
   "outputs": [],
   "source": [
    "anchors_0 = soup.find_all(\"a\", text=re.compile(\"[0-9]\\s+Data\"))\n",
    "anchors_0"
   ]
  },
  {
   "cell_type": "code",
   "execution_count": null,
   "metadata": {
    "collapsed": false
   },
   "outputs": [],
   "source": [
    "for a in anchors_0:\n",
    "  url_1 = urljoin(base_url, a['href'])\n",
    "  print(url_1)"
   ]
  },
  {
   "cell_type": "code",
   "execution_count": null,
   "metadata": {
    "collapsed": false
   },
   "outputs": [],
   "source": [
    "soup_1 = BeautifulSoup(\n",
    "  requests.get(url_1).text, \"lxml\")"
   ]
  },
  {
   "cell_type": "code",
   "execution_count": null,
   "metadata": {
    "collapsed": false
   },
   "outputs": [],
   "source": [
    "anchors_1 = soup_1.find_all(\"a\", text=re.compile(\"zip file\"))\n",
    "anchors_1"
   ]
  },
  {
   "cell_type": "code",
   "execution_count": null,
   "metadata": {
    "collapsed": false
   },
   "outputs": [],
   "source": [
    "url_2 = urljoin(base_url, anchors_1[-1]['href'])\n",
    "print(url_2)\n",
    "print(\"http://www.fhwa.dot.gov/bridge/nbi/disclaim.cfm?nbiYear=2015allstatesallrecsdel&nbiZip=zip\")"
   ]
  },
  {
   "cell_type": "code",
   "execution_count": null,
   "metadata": {
    "collapsed": true
   },
   "outputs": [],
   "source": [
    "soup_2 = BeautifulSoup(requests.get(url_2).text, \"lxml\")"
   ]
  },
  {
   "cell_type": "code",
   "execution_count": null,
   "metadata": {
    "collapsed": false
   },
   "outputs": [],
   "source": [
    "anchors_2 = soup_2.find_all(\"a\", text=re.compile(\"Proceed to Data\"))\n",
    "anchors_2"
   ]
  },
  {
   "cell_type": "code",
   "execution_count": null,
   "metadata": {
    "collapsed": true
   },
   "outputs": [],
   "source": [
    "url_3 = urljoin(base_url, anchors_2[0]['href'])\n",
    "print(url_3)\n",
    "print(\"http://www.fhwa.dot.gov/bridge/nbi/2015allstatesallrecsdel.zip\")"
   ]
  },
  {
   "cell_type": "code",
   "execution_count": null,
   "metadata": {
    "collapsed": false
   },
   "outputs": [],
   "source": [
    "import urllib\n",
    "import zipfile\n",
    "import io\n",
    "\n",
    "r = requests.get(url_3, stream=True)\n",
    "if resp.status_code == 200:\n",
    "  z = zipfile.ZipFile(io.BytesIO(r.content))"
   ]
  },
  {
   "cell_type": "code",
   "execution_count": null,
   "metadata": {
    "collapsed": false
   },
   "outputs": [],
   "source": [
    "z.extractall()"
   ]
  }
 ],
 "metadata": {
  "anaconda-cloud": {},
  "kernelspec": {
   "display_name": "Python [conda root]",
   "language": "python",
   "name": "conda-root-py"
  },
  "language_info": {
   "codemirror_mode": {
    "name": "ipython",
    "version": 3
   },
   "file_extension": ".py",
   "mimetype": "text/x-python",
   "name": "python",
   "nbconvert_exporter": "python",
   "pygments_lexer": "ipython3",
   "version": "3.5.2"
  }
 },
 "nbformat": 4,
 "nbformat_minor": 1
}
